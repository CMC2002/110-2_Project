{
  "nbformat": 4,
  "nbformat_minor": 0,
  "metadata": {
    "colab": {
      "name": "110-2_Project.ipynb",
      "provenance": [],
      "authorship_tag": "ABX9TyPclL8dqUcqxFP1PkPv/ZfP",
      "include_colab_link": true
    },
    "kernelspec": {
      "name": "python3",
      "display_name": "Python 3"
    },
    "language_info": {
      "name": "python"
    }
  },
  "cells": [
    {
      "cell_type": "markdown",
      "metadata": {
        "id": "view-in-github",
        "colab_type": "text"
      },
      "source": [
        "<a href=\"https://colab.research.google.com/github/CMC2002/110-2_Project/blob/main/110_2_Project.ipynb\" target=\"_parent\"><img src=\"https://colab.research.google.com/assets/colab-badge.svg\" alt=\"Open In Colab\"/></a>"
      ]
    },
    {
      "cell_type": "code",
      "execution_count": 1,
      "metadata": {
        "id": "PwTPFGAo9dTx"
      },
      "outputs": [],
      "source": [
        "import torch.nn as nn\n",
        "import torch\n",
        "from torch import autograd"
      ]
    },
    {
      "cell_type": "code",
      "source": [
        "class DoubleConv(nn.Module):\n",
        "  def __init__(self, in_channel, out_channel):\n",
        "    super(DoubleConv, self).__init__()\n",
        "    self.conv = nn.Sequential(\n",
        "        nn.Conv2d(in_channel, out_channel, 3, padding= 1),\n",
        "        nn.BatchNorm2d(out_channel),\n",
        "        nn.ReLU(inplace= True),\n",
        "        nn.Con2d(out_channel, out_channel, 3, padding= 1),\n",
        "        nn.BatchNorm2d(out_channel),\n",
        "        nn.ReLU(inplace= True)\n",
        "    )\n",
        "  \n",
        "  def forward(self, input):\n",
        "    return self.conv(input)"
      ],
      "metadata": {
        "id": "nneuG_sG97fW"
      },
      "execution_count": 2,
      "outputs": []
    },
    {
      "cell_type": "code",
      "source": [
        "class Unet(nn.Module):\n",
        "  def __init__(self, in_channel, out_channel):\n",
        "    super(Unet, self).__init__()\n",
        "    self.conv1 = DoubleConv(in_channel, 64)"
      ],
      "metadata": {
        "id": "5QCSNwfS-yRO"
      },
      "execution_count": null,
      "outputs": []
    }
  ]
}