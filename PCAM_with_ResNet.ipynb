{
  "cells": [
    {
      "cell_type": "markdown",
      "metadata": {
        "id": "view-in-github",
        "colab_type": "text"
      },
      "source": [
        "<a href=\"https://colab.research.google.com/github/CMC2002/110-2_Project/blob/main/PCAM_with_ResNet.ipynb\" target=\"_parent\"><img src=\"https://colab.research.google.com/assets/colab-badge.svg\" alt=\"Open In Colab\"/></a>"
      ]
    },
    {
      "cell_type": "code",
      "execution_count": 1,
      "metadata": {
        "id": "tT8UkEGYfink",
        "colab": {
          "base_uri": "https://localhost:8080/"
        },
        "outputId": "66c422f0-ce27-4df4-cc44-2f7bf929c5ad"
      },
      "outputs": [
        {
          "output_type": "stream",
          "name": "stdout",
          "text": [
            "Mounted at /content/drive\n"
          ]
        }
      ],
      "source": [
        "from google.colab import drive\n",
        "drive.mount('/content/drive')"
      ]
    },
    {
      "cell_type": "code",
      "execution_count": 2,
      "metadata": {
        "id": "hbGhKzFvI72d",
        "colab": {
          "base_uri": "https://localhost:8080/"
        },
        "outputId": "a86046ac-31bd-4faa-d240-b205978df837"
      },
      "outputs": [
        {
          "output_type": "stream",
          "name": "stdout",
          "text": [
            "Collecting pytorch\n",
            "  Downloading pytorch-1.0.2.tar.gz (689 bytes)\n",
            "Building wheels for collected packages: pytorch\n",
            "  Building wheel for pytorch (setup.py) ... \u001b[?25lerror\n",
            "\u001b[31m  ERROR: Failed building wheel for pytorch\u001b[0m\n",
            "\u001b[?25h  Running setup.py clean for pytorch\n",
            "Failed to build pytorch\n",
            "Installing collected packages: pytorch\n",
            "    Running setup.py install for pytorch ... \u001b[?25l\u001b[?25herror\n",
            "\u001b[31mERROR: Command errored out with exit status 1: /usr/bin/python3 -u -c 'import io, os, sys, setuptools, tokenize; sys.argv[0] = '\"'\"'/tmp/pip-install-hdp9y12p/pytorch_c077d93753874755b61b65746f8a200c/setup.py'\"'\"'; __file__='\"'\"'/tmp/pip-install-hdp9y12p/pytorch_c077d93753874755b61b65746f8a200c/setup.py'\"'\"';f = getattr(tokenize, '\"'\"'open'\"'\"', open)(__file__) if os.path.exists(__file__) else io.StringIO('\"'\"'from setuptools import setup; setup()'\"'\"');code = f.read().replace('\"'\"'\\r\\n'\"'\"', '\"'\"'\\n'\"'\"');f.close();exec(compile(code, __file__, '\"'\"'exec'\"'\"'))' install --record /tmp/pip-record-orgfia8t/install-record.txt --single-version-externally-managed --compile --install-headers /usr/local/include/python3.7/pytorch Check the logs for full command output.\u001b[0m\n",
            "Requirement already satisfied: torchvision==0.12.0 in /usr/local/lib/python3.7/dist-packages (0.12.0+cu113)\n",
            "Requirement already satisfied: torch==1.11.0 in /usr/local/lib/python3.7/dist-packages (from torchvision==0.12.0) (1.11.0+cu113)\n",
            "Requirement already satisfied: numpy in /usr/local/lib/python3.7/dist-packages (from torchvision==0.12.0) (1.21.6)\n",
            "Requirement already satisfied: typing-extensions in /usr/local/lib/python3.7/dist-packages (from torchvision==0.12.0) (4.2.0)\n",
            "Requirement already satisfied: pillow!=8.3.*,>=5.3.0 in /usr/local/lib/python3.7/dist-packages (from torchvision==0.12.0) (7.1.2)\n",
            "Requirement already satisfied: requests in /usr/local/lib/python3.7/dist-packages (from torchvision==0.12.0) (2.23.0)\n",
            "Requirement already satisfied: idna<3,>=2.5 in /usr/local/lib/python3.7/dist-packages (from requests->torchvision==0.12.0) (2.10)\n",
            "Requirement already satisfied: urllib3!=1.25.0,!=1.25.1,<1.26,>=1.21.1 in /usr/local/lib/python3.7/dist-packages (from requests->torchvision==0.12.0) (1.24.3)\n",
            "Requirement already satisfied: chardet<4,>=3.0.2 in /usr/local/lib/python3.7/dist-packages (from requests->torchvision==0.12.0) (3.0.4)\n",
            "Requirement already satisfied: certifi>=2017.4.17 in /usr/local/lib/python3.7/dist-packages (from requests->torchvision==0.12.0) (2021.10.8)\n",
            "Requirement already satisfied: h5py in /usr/local/lib/python3.7/dist-packages (3.1.0)\n",
            "Requirement already satisfied: numpy>=1.14.5 in /usr/local/lib/python3.7/dist-packages (from h5py) (1.21.6)\n",
            "Requirement already satisfied: cached-property in /usr/local/lib/python3.7/dist-packages (from h5py) (1.5.2)\n"
          ]
        }
      ],
      "source": [
        "!pip install pytorch\n",
        "!pip install torchvision==0.12.0\n",
        "!pip install h5py"
      ]
    },
    {
      "cell_type": "code",
      "source": [
        "!pip install perlin-noise"
      ],
      "metadata": {
        "colab": {
          "base_uri": "https://localhost:8080/"
        },
        "id": "NBLq6HQ8hhGL",
        "outputId": "10702283-a8cd-47af-ca50-1994005f63cf"
      },
      "execution_count": 3,
      "outputs": [
        {
          "output_type": "stream",
          "name": "stdout",
          "text": [
            "Collecting perlin-noise\n",
            "  Downloading perlin_noise-1.12-py3-none-any.whl (5.3 kB)\n",
            "Installing collected packages: perlin-noise\n",
            "Successfully installed perlin-noise-1.12\n"
          ]
        }
      ]
    },
    {
      "cell_type": "code",
      "execution_count": 4,
      "metadata": {
        "id": "E8iMxneXgGn9"
      },
      "outputs": [],
      "source": [
        "!cp -r /content/drive/MyDrive/pcam /content\n",
        "!mkdir ./model\n",
        "!cp -r /content/drive/MyDrive/checkpoint.ckpt /content/model\n",
        "!cp -r /content/drive/MyDrive/output.csv /content/model"
      ]
    },
    {
      "cell_type": "code",
      "execution_count": 5,
      "metadata": {
        "id": "16jo7Y7Y5tke"
      },
      "outputs": [],
      "source": [
        "!gunzip /content/pcam/camelyonpatch_level_2_split_train_x.h5.gz"
      ]
    },
    {
      "cell_type": "code",
      "execution_count": 6,
      "metadata": {
        "id": "LK2U6rwM6vBp"
      },
      "outputs": [],
      "source": [
        "!gunzip /content/pcam/camelyonpatch_level_2_split_train_y.h5.gz\n",
        "!gunzip /content/pcam/camelyonpatch_level_2_split_valid_x.h5.gz\n",
        "!gunzip /content/pcam/camelyonpatch_level_2_split_valid_y.h5.gz"
      ]
    },
    {
      "cell_type": "code",
      "source": [
        "from perlin_noise import PerlinNoise\n",
        "import matplotlib.pyplot as plt\n",
        "noise = PerlinNoise(octaves= 1)\n",
        "mask = [[noise([i*0.01, j*0.01]) for j in range(96)] for i in range(96)]\n",
        "plt.imshow(mask, cmap= 'gray')\n",
        "plt.show()"
      ],
      "metadata": {
        "colab": {
          "base_uri": "https://localhost:8080/",
          "height": 268
        },
        "id": "YAqH6uJMmX8X",
        "outputId": "ba1047c7-aa95-4d41-cd15-9e977e7910ae"
      },
      "execution_count": 7,
      "outputs": [
        {
          "output_type": "display_data",
          "data": {
            "text/plain": [
              "<Figure size 432x288 with 1 Axes>"
            ],
            "image/png": "[encoded data removed]"
          },
          "metadata": {
            "needs_background": "light"
          }
        }
      ]
    },
    {
      "cell_type": "code",
      "execution_count": 8,
      "metadata": {
        "id": "kf4IBM2jfQo8"
      },
      "outputs": [],
      "source": [
        "import torch\n",
        "import torchvision\n",
        "import torchvision.transforms as transforms\n",
        "import scipy\n",
        "device = \"cuda\"\n",
        "mask = torch.Tensor(mask)\n",
        "trans = transforms.Compose([transforms.RandomVerticalFlip(),\n",
        "              transforms.RandomHorizontalFlip(),\n",
        "              transforms.Grayscale(num_output_channels=3),\n",
        "              transforms.RandomRotation(30, expand=False, center=(48, 48)),\n",
        "              transforms.ToTensor(),\n",
        "              transforms.Lambda(lambda img: img+ mask),\n",
        "              transforms.Normalize(0.5, 1)])\n",
        "trans_v = transforms.Compose([transforms.ToTensor(),\n",
        "                transforms.Normalize(0.5, 1)])\n",
        "trainset = torchvision.datasets.PCAM(root=\"/content\", split = 'train', download= True, transform= trans)\n",
        "validset = torchvision.datasets.PCAM(root=\"/content\", split = 'val', download= True, transform= trans_v)\n",
        "\n",
        "batch_size = 32\n",
        "train_loader = torch.utils.data.DataLoader(dataset = trainset, batch_size = batch_size, shuffle = False)\n",
        "valid_loader = torch.utils.data.DataLoader(dataset = validset, batch_size = batch_size, shuffle = False)\n",
        "\n",
        "y_valid= []\n",
        "y_valid_loader = torch.utils.data.DataLoader(dataset = validset, batch_size = 1, shuffle = False)\n",
        "for data, target in y_valid_loader:\n",
        "  y_valid.append(target.numpy())"
      ]
    },
    {
      "cell_type": "code",
      "source": [
        "import torch\n",
        "import torch.nn as nn\n",
        "import torch.nn.functional as F\n",
        "import torch.optim as optim\n",
        "from torchvision import datasets, transforms\n",
        "from torch.autograd import Variable\n",
        "from torchsummary import summary\n",
        "from torchvision import datasets, models, transforms\n",
        "\n",
        "class resNet(nn.Module):\n",
        "  def __init__(self):\n",
        "    super().__init__()\n",
        "    self.resnet = torchvision.models.resnet34(pretrained = True)\n",
        "    self.fine_tune = nn.Linear(1000, 2)\n",
        "\n",
        "  def forward(self, x, fixed=False):\n",
        "    x = self.resnet(x)\n",
        "    if fixed:\n",
        "      x= x.detach()\n",
        "    x = self.fine_tune(x)\n",
        "    return x\n"
      ],
      "metadata": {
        "id": "c1fgy4bCp5e-"
      },
      "execution_count": 9,
      "outputs": []
    },
    {
      "cell_type": "code",
      "execution_count": 10,
      "metadata": {
        "id": "Va1U4RitIUdm",
        "colab": {
          "base_uri": "https://localhost:8080/",
          "height": 67,
          "referenced_widgets": [
            "527e118b5e7744ceab56b71d554fc01b",
            "fd9336c75f3442b8ba95e0798fc29613",
            "9ddf4798882a45fa87d518948e697282",
            "cd7e4d2dd90942bda792843414529f75",
            "12459cda20ba42408ac1e1d19278e115",
            "4353bc4953ca4783b880cb91abec84c6",
            "2fad582c21dd45e1beb55897215708ec",
            "230637c4895f4aa6b75469d9460b071f",
            "5cf840dbe0b3496f8d210a1c6d1ac25d",
            "93be2cd6d1b140479745a5c08d03432a",
            "4c770884aded49a48dee378e12f6fc28"
          ]
        },
        "outputId": "a0e898af-9add-44fe-ca9c-12db840d8141"
      },
      "outputs": [
        {
          "output_type": "stream",
          "name": "stderr",
          "text": [
            "Downloading: \"https://download.pytorch.org/models/resnet34-b627a593.pth\" to /root/.cache/torch/hub/checkpoints/resnet34-b627a593.pth\n"
          ]
        },
        {
          "output_type": "display_data",
          "data": {
            "text/plain": [
              "  0%|          | 0.00/83.3M [00:00<?, ?B/s]"
            ],
            "application/vnd.jupyter.widget-view+json": {
              "version_major": 2,
              "version_minor": 0,
              "model_id": "527e118b5e7744ceab56b71d554fc01b"
            }
          },
          "metadata": {}
        }
      ],
      "source": [
        "gmodel = resNet()\n",
        "gmodel= gmodel.to(device)\n",
        "loss_f = nn.CrossEntropyLoss()\n",
        "optimizer = optim.AdamW(gmodel.parameters(), lr = 0.00005)"
      ]
    },
    {
      "cell_type": "code",
      "source": [
        "trainaccu = []\n",
        "validaccu = []\n",
        "trainloss = []\n",
        "validloss = []"
      ],
      "metadata": {
        "id": "v3KENmp-lmXj"
      },
      "execution_count": 11,
      "outputs": []
    },
    {
      "cell_type": "code",
      "execution_count": null,
      "metadata": {
        "id": "CWXGyztIieMU"
      },
      "outputs": [],
      "source": [
        "import numpy as np\n",
        "import csv\n",
        "import pandas as pd\n",
        "Data = pd.read_csv('./model/output.csv', delimiter= ',', encoding= 'utf-8', header= None)\n",
        "data = Data.to_numpy()\n",
        "for i in range(0, np.size(data, axis= 1)):\n",
        "  trainloss.append(data[0][i])\n",
        "  validloss.append(data[1][i])\n",
        "for i in range(0, np.size(data, axis= 1)):\n",
        "  trainaccu.append(data[2][i])\n",
        "  validaccu.append(data[3][i])\n"
      ]
    },
    {
      "cell_type": "code",
      "source": [
        "from tqdm import  tqdm\n",
        "def train(epoch, model):\n",
        "    '''if epoch == 0:\n",
        "      checkpoint=torch.load(\"./model/checkpoint.ckpt\",map_location=device)\n",
        "      model_state, optimizer_state = checkpoint[\"model\"], checkpoint[\"optimizer\"]\n",
        "      model.load_state_dict(model_state)\n",
        "      optimizer.load_state_dict(optimizer_state)'''\n",
        "    model.train()\n",
        "    correct = 0\n",
        "    train_loss = 0\n",
        "    # for batch_idx, (data, target) in enumerate(train_loader):\n",
        "    for batch_idx, (data, target) in enumerate(tqdm(train_loader)):\n",
        "        # data, target = Variable(data), Variable(target)\n",
        "        data, target = data.to(device), target.to(device)\n",
        "        optimizer.zero_grad()\n",
        "        output = model(data)\n",
        "        loss = loss_f(output, target)\n",
        "        loss.backward()\n",
        "        optimizer.step()\n",
        "        train_loss += loss.item()\n",
        "        correct += (output.argmax(dim=1)==target).sum().item()\n",
        "    train_loss /= len(train_loader.dataset)\n",
        "    print('\\nTraining  set: Average loss: {:.4f}, Accuracy: {}/{} ({:.0f}%)'.format(\n",
        "        train_loss, correct, len(train_loader.dataset),\n",
        "        100. * correct / len(train_loader.dataset)))\n",
        "    train_loss /= len(train_loader.dataset)\n",
        "    trainloss.append(train_loss)\n",
        "    trainaccu.append(correct / len(train_loader.dataset))"
      ],
      "metadata": {
        "id": "Fn4h0WQ79XQb"
      },
      "execution_count": 12,
      "outputs": []
    },
    {
      "cell_type": "code",
      "execution_count": 13,
      "metadata": {
        "id": "TD7BQ0FDipyx"
      },
      "outputs": [],
      "source": [
        "valid_output = []\n",
        "def valid(model):\n",
        "    model.eval()\n",
        "    valid_loss = 0\n",
        "    correct = 0\n",
        "    loss = []\n",
        "    global valid_output\n",
        "    valid_output = []\n",
        "    for data, target in tqdm(valid_loader):\n",
        "        # data, target = Variable(data, volatile = True), Variable(target)\n",
        "        data, target = data.to(device), target.to(device)\n",
        "        output = model(data)\n",
        "        valid_output.append(output.detach().cpu().numpy())\n",
        "        # Sum up vatch loss\n",
        "        valid_loss += loss_f(output, target).data.item()\n",
        "        correct += (output.argmax(dim=1)==target).sum().item()\n",
        "    valid_loss /= len(valid_loader.dataset)\n",
        "    print('Validation  set: Average loss: {:.4f}, Accuracy: {}/{} ({:.0f}%)\\n'.format(\n",
        "        valid_loss, correct, len(valid_loader.dataset),\n",
        "        100. * correct / len(valid_loader.dataset)))\n",
        "    validloss.append(valid_loss)\n",
        "    validaccu.append(correct / len(valid_loader.dataset))\n",
        "    valid_output = np.concatenate(valid_output)"
      ]
    },
    {
      "cell_type": "code",
      "execution_count": 20,
      "metadata": {
        "id": "-e5VWM3KiuLc",
        "colab": {
          "base_uri": "https://localhost:8080/"
        },
        "outputId": "0723f734-7b80-45cc-c3a6-fe748bb7c585"
      },
      "outputs": [
        {
          "metadata": {
            "tags": null
          },
          "name": "stderr",
          "output_type": "stream",
          "text": [
            "100%|██████████| 8192/8192 [17:08<00:00,  7.97it/s]\n"
          ]
        },
        {
          "metadata": {
            "tags": null
          },
          "name": "stdout",
          "output_type": "stream",
          "text": [
            "\n",
            "Training  set: Average loss: 0.0031, Accuracy: 252059/262144 (96%)\n"
          ]
        },
        {
          "metadata": {
            "tags": null
          },
          "name": "stderr",
          "output_type": "stream",
          "text": [
            "100%|██████████| 1024/1024 [01:23<00:00, 12.22it/s]\n"
          ]
        },
        {
          "metadata": {
            "tags": null
          },
          "name": "stdout",
          "output_type": "stream",
          "text": [
            "Validation  set: Average loss: 0.0263, Accuracy: 23371/32768 (71%)\n",
            "\n"
          ]
        },
        {
          "output_type": "stream",
          "name": "stderr",
          "text": [
            "100%|██████████| 8192/8192 [16:52<00:00,  8.09it/s]\n"
          ]
        },
        {
          "output_type": "stream",
          "name": "stdout",
          "text": [
            "\n",
            "Training  set: Average loss: 0.0029, Accuracy: 252668/262144 (96%)\n"
          ]
        },
        {
          "output_type": "stream",
          "name": "stderr",
          "text": [
            "100%|██████████| 1024/1024 [01:24<00:00, 12.16it/s]\n"
          ]
        },
        {
          "output_type": "stream",
          "name": "stdout",
          "text": [
            "Validation  set: Average loss: 0.0271, Accuracy: 22627/32768 (69%)\n",
            "\n"
          ]
        }
      ],
      "source": [
        "import numpy as np\n",
        "num_iter= 2\n",
        "for epoch in range(0, num_iter):\n",
        "    train(epoch, gmodel)\n",
        "    valid(gmodel)\n",
        "torch.save({\"model\": gmodel.state_dict(), \"optimizer\": optimizer.state_dict()}, \"./model/checkpoint.ckpt\")"
      ]
    },
    {
      "cell_type": "code",
      "execution_count": 21,
      "metadata": {
        "id": "xLYVPLlOi1JA",
        "colab": {
          "base_uri": "https://localhost:8080/",
          "height": 541
        },
        "outputId": "8194f404-3343-4990-f826-e28376dd9e1e"
      },
      "outputs": [
        {
          "output_type": "display_data",
          "data": {
            "text/plain": [
              "<Figure size 432x288 with 1 Axes>"
            ],
            "image/png": "[encoded data removed]"
          },
          "metadata": {
            "needs_background": "light"
          }
        },
        {
          "output_type": "display_data",
          "data": {
            "text/plain": [
              "<Figure size 432x288 with 1 Axes>"
            ],
            "image/png": "[encoded data removed]"
          },
          "metadata": {
            "needs_background": "light"
          }
        }
      ],
      "source": [
        "import matplotlib.pyplot as plt\n",
        "plt.xlabel('Epoch')\n",
        "plt.ylabel('Loss')\n",
        "plt.plot(range(0, len(trainloss)), trainloss, color = 'blue', label = 'training loss')\n",
        "plt.plot(range(0, len(validloss)), validloss, color = 'red', label = 'validation loss')\n",
        "plt.legend()\n",
        "plt.show()\n",
        "\n",
        "plt.xlabel('Epoch')\n",
        "plt.ylabel('Accuracy')\n",
        "plt.plot(range(0, len(trainaccu)), trainaccu, color = 'blue', label = 'training accuracy')\n",
        "plt.plot(range(0, len(validaccu)), validaccu, color = 'red', label = 'validation accuracy')\n",
        "plt.legend()\n",
        "plt.show()\n"
      ]
    },
    {
      "cell_type": "code",
      "source": [
        "import csv\n",
        "with open('./model/output.csv','w',newline='') as f:\n",
        "  w = csv.writer(f)\n",
        "  w.writerow(trainloss)\n",
        "  w.writerow(validloss)\n",
        "  w.writerow(trainaccu)\n",
        "  w.writerow(validaccu)"
      ],
      "metadata": {
        "id": "3GUmv9uVsi-b"
      },
      "execution_count": 22,
      "outputs": []
    },
    {
      "cell_type": "code",
      "source": [
        "valid_result= []\n",
        "for i in range(0, np.size(valid_output,0)):\n",
        "  if valid_output[i][0] >= valid_output[i][1]:\n",
        "    valid_result.append(0)\n",
        "  else: \n",
        "    valid_result.append(1)\n"
      ],
      "metadata": {
        "id": "faYODyrJoVGL"
      },
      "execution_count": 23,
      "outputs": []
    },
    {
      "cell_type": "code",
      "execution_count": 24,
      "metadata": {
        "id": "zZBHPPOSjG-j",
        "colab": {
          "base_uri": "https://localhost:8080/",
          "height": 373
        },
        "outputId": "68488ebb-286d-4947-e783-48f54d0df089"
      },
      "outputs": [
        {
          "output_type": "stream",
          "name": "stdout",
          "text": [
            "AUC=  0.69\n"
          ]
        },
        {
          "output_type": "display_data",
          "data": {
            "text/plain": [
              "<Figure size 432x288 with 1 Axes>"
            ],
            "image/png": "[encoded data removed]"
          },
          "metadata": {
            "needs_background": "light"
          }
        },
        {
          "output_type": "stream",
          "name": "stdout",
          "text": [
            "Accuracy=  0.691\n",
            "Sensitivity=  0.641\n",
            "Specificity=  0.793\n",
            "Precision=  0.866\n",
            "Negative Predictive Value=  0.515\n"
          ]
        }
      ],
      "source": [
        "from sklearn.metrics import roc_curve\n",
        "from sklearn.metrics import roc_auc_score\n",
        "##y_valid= np.array(y_valid, dtype= bool)\n",
        "##valid_result= np.array(valid_result, dtype= bool)\n",
        "print(\"AUC= \", round(roc_auc_score(y_valid, valid_result),3))\n",
        "fpr, tpr, thresholds = roc_curve(y_valid, valid_result, pos_label= 1)\n",
        "plt.plot(fpr, tpr, color= 'red', label= 'ROC curve (area = %0.2f)')\n",
        "plt.grid(color= 'grey', linewidth= 0.5)\n",
        "plt.plot([0,1], [0,1], color= 'green', linestyle= '--')\n",
        "plt.show()\n",
        "\n",
        "from sklearn.metrics import accuracy_score\n",
        "print(\"Accuracy= \", round(accuracy_score(valid_result, y_valid), 3))\n",
        "\n",
        "from sklearn.metrics import confusion_matrix\n",
        "cnf = confusion_matrix(y_valid, valid_result)\n",
        "tp = cnf[0][0]\n",
        "fp = cnf[0][1]\n",
        "tn = cnf[1][1]\n",
        "fn = cnf[1][0]\n",
        "print(\"Sensitivity= \", round(tp/(tp+fn), 3))\n",
        "print(\"Specificity= \", round(tn/(tn+fp), 3))\n",
        "print(\"Precision= \", round(tp/(tp+fp), 3))\n",
        "print(\"Negative Predictive Value= \", round(tn/(tn+fn), 3))"
      ]
    },
    {
      "cell_type": "code",
      "source": [
        "!cp -r /content/model/checkpoint.ckpt /content/drive/MyDrive\n",
        "!cp -r /content/model/output.csv /content/drive/MyDrive"
      ],
      "metadata": {
        "id": "O5hIk0uviA5w"
      },
      "execution_count": 25,
      "outputs": []
    },
    {
      "cell_type": "code",
      "execution_count": null,
      "metadata": {
        "id": "MD2dl_9QDruK"
      },
      "outputs": [],
      "source": [
        "import torch\n",
        "import torch.nn as nn\n",
        "\n",
        "from functools import partial\n",
        "from dataclasses import dataclass\n",
        "from collections import OrderedDict\n",
        "\n",
        "class Conv2dAuto(nn.Conv2d):\n",
        "    def __init__(self, *args, **kwargs):\n",
        "        super().__init__(*args, **kwargs)\n",
        "        self.padding =  (self.kernel_size[0] // 2, self.kernel_size[1] // 2)\n",
        "        \n",
        "conv3x3 = partial(Conv2dAuto, kernel_size=3, bias=False)  \n",
        "\n",
        "class ResidualBlock(nn.Module):\n",
        "    def __init__(self, in_channels, out_channels):\n",
        "        super().__init__()\n",
        "        self.in_channels, self.out_channels =  in_channels, out_channels\n",
        "        self.blocks = nn.Identity()\n",
        "        self.shortcut = nn.Identity()   \n",
        "    \n",
        "    def forward(self, x):\n",
        "        residual = x\n",
        "        if self.should_apply_shortcut: residual = self.shortcut(x)\n",
        "        x = self.blocks(x)\n",
        "        x += residual\n",
        "        return x\n",
        "    \n",
        "    @property\n",
        "    def should_apply_shortcut(self):\n",
        "        return self.in_channels != self.out_channels\n",
        "\n",
        "from collections import OrderedDict\n",
        "\n",
        "class ResNetResidualBlock(ResidualBlock):\n",
        "    def __init__(self, in_channels, out_channels, expansion=1, downsampling=1, conv=conv3x3, *args, **kwargs):\n",
        "        super().__init__(in_channels, out_channels)\n",
        "        self.expansion, self.downsampling, self.conv = expansion, downsampling, conv\n",
        "        self.shortcut = nn.Sequential(OrderedDict(\n",
        "        {\n",
        "            'conv' : nn.Conv2d(self.in_channels, self.expanded_channels, kernel_size=1,\n",
        "                      stride=self.downsampling, bias=False),\n",
        "            'bn' : nn.BatchNorm2d(self.expanded_channels)\n",
        "            \n",
        "        })) if self.should_apply_shortcut else None\n",
        "        \n",
        "        \n",
        "    @property\n",
        "    def expanded_channels(self):\n",
        "        return self.out_channels * self.expansion\n",
        "    \n",
        "    @property\n",
        "    def should_apply_shortcut(self):\n",
        "        return self.in_channels != self.expanded_channels\n",
        "\n",
        "from collections import OrderedDict\n",
        "def conv_bn(in_channels, out_channels, conv, *args, **kwargs):\n",
        "    return nn.Sequential(OrderedDict({'conv': conv(in_channels, out_channels, *args, **kwargs), \n",
        "                          'bn': nn.BatchNorm2d(out_channels) }))\n",
        "\n",
        "class ResNetBasicBlock(ResNetResidualBlock):\n",
        "    expansion = 1\n",
        "    def __init__(self, in_channels, out_channels, activation=nn.ReLU, *args, **kwargs):\n",
        "        super().__init__(in_channels, out_channels, *args, **kwargs)\n",
        "        self.blocks = nn.Sequential(\n",
        "            conv_bn(self.in_channels, self.out_channels, conv=self.conv, bias=False, stride=self.downsampling),\n",
        "            activation(),\n",
        "            conv_bn(self.out_channels, self.expanded_channels, conv=self.conv, bias=False),\n",
        "        )\n",
        "\n",
        "class ResNetBottleNeckBlock(ResNetResidualBlock):\n",
        "    expansion = 4\n",
        "    def __init__(self, in_channels, out_channels, activation=nn.ReLU, *args, **kwargs):\n",
        "        super().__init__(in_channels, out_channels, expansion=4, *args, **kwargs)\n",
        "        self.blocks = nn.Sequential(\n",
        "           conv_bn(self.in_channels, self.out_channels, self.conv, kernel_size=1),\n",
        "             activation(),\n",
        "             conv_bn(self.out_channels, self.out_channels, self.conv, kernel_size=3, stride=self.downsampling),\n",
        "             activation(),\n",
        "             conv_bn(self.out_channels, self.expanded_channels, self.conv, kernel_size=1),\n",
        "        )\n",
        "\n",
        "class ResNetLayer(nn.Module):\n",
        "    def __init__(self, in_channels, out_channels, block=ResNetBasicBlock, n=1, *args, **kwargs):\n",
        "        super().__init__()\n",
        "        # 'We perform downsampling directly by convolutional layers that have a stride of 2.'\n",
        "        downsampling = 2 if in_channels != out_channels else 1\n",
        "        \n",
        "        self.blocks = nn.Sequential(\n",
        "            block(in_channels , out_channels, *args, **kwargs, downsampling=downsampling),\n",
        "            *[block(out_channels * block.expansion, \n",
        "                    out_channels, downsampling=1, *args, **kwargs) for _ in range(n - 1)]\n",
        "        )\n",
        "\n",
        "    def forward(self, x):\n",
        "        x = self.blocks(x)\n",
        "        return x\n",
        "\n",
        "class ResNetEncoder(nn.Module):\n",
        "    \"\"\"\n",
        "    ResNet encoder composed by increasing different layers with increasing features.\n",
        "    \"\"\"\n",
        "    def __init__(self, in_channels=3, blocks_sizes=[64, 128, 256, 512], deepths=[2,2,2,2], \n",
        "                 activation=nn.ReLU, block=ResNetBasicBlock, *args,**kwargs):\n",
        "        super().__init__()\n",
        "        \n",
        "        self.blocks_sizes = blocks_sizes\n",
        "        \n",
        "        self.gate = nn.Sequential(\n",
        "            nn.Conv2d(in_channels, self.blocks_sizes[0], kernel_size=7, stride=2, padding=3, bias=False),\n",
        "            nn.BatchNorm2d(self.blocks_sizes[0]),\n",
        "            activation(),\n",
        "            nn.MaxPool2d(kernel_size=3, stride=2, padding=1)\n",
        "        )\n",
        "        \n",
        "        self.in_out_block_sizes = list(zip(blocks_sizes, blocks_sizes[1:]))\n",
        "        self.blocks = nn.ModuleList([ \n",
        "            ResNetLayer(blocks_sizes[0], blocks_sizes[0], n=deepths[0], activation=activation, \n",
        "                        block=block,  *args, **kwargs),\n",
        "            *[ResNetLayer(in_channels * block.expansion, \n",
        "                          out_channels, n=n, activation=activation, \n",
        "                          block=block, *args, **kwargs) \n",
        "              for (in_channels, out_channels), n in zip(self.in_out_block_sizes, deepths[1:])]       \n",
        "        ])\n",
        "        \n",
        "        \n",
        "    def forward(self, x):\n",
        "      x = self.gate(x)\n",
        "      for block in self.blocks:\n",
        "          x = block(x)\n",
        "      return x\n",
        "\n",
        "class ResnetDecoder(nn.Module):\n",
        "    \"\"\"\n",
        "    This class represents the tail of ResNet. It performs a global pooling and maps the output to the\n",
        "    correct class by using a fully connected layer.\n",
        "    \"\"\"\n",
        "    def __init__(self, in_features, n_classes):\n",
        "        super().__init__()\n",
        "        self.avg = nn.AdaptiveAvgPool2d((1, 1))\n",
        "        self.decoder = nn.Linear(in_features, n_classes)\n",
        "\n",
        "    def forward(self, x):\n",
        "        x = self.avg(x)\n",
        "        x = x.view(x.size(0), -1)\n",
        "        x = self.decoder(x)\n",
        "        return x\n",
        "\n",
        "class ResNet(nn.Module):\n",
        "    \n",
        "    def __init__(self, in_channels, n_classes, *args, **kwargs):\n",
        "        super().__init__()\n",
        "        self.encoder = ResNetEncoder(in_channels, *args, **kwargs)\n",
        "        self.decoder = ResnetDecoder(self.encoder.blocks[-1].blocks[-1].expanded_channels, n_classes)\n",
        "        \n",
        "    def forward(self, x):\n",
        "        x = self.encoder(x)\n",
        "        x = self.decoder(x)\n",
        "        return x\n",
        "\n",
        "def resnet18(in_channels, n_classes):\n",
        "    return ResNet(in_channels, n_classes, block=ResNetBasicBlock, deepths=[2, 2, 2, 2])\n",
        "\n",
        "def resnet34(in_channels, n_classes):\n",
        "    return ResNet(in_channels, n_classes, block=ResNetBasicBlock, deepths=[3, 4, 6, 3])\n",
        "\n",
        "def resnet50(in_channels, n_classes):\n",
        "    return ResNet(in_channels, n_classes, block=ResNetBottleNeckBlock, deepths=[3, 4, 6, 3])\n",
        "\n",
        "def resnet101(in_channels, n_classes):\n",
        "    return ResNet(in_channels, n_classes, block=ResNetBottleNeckBlock, deepths=[3, 4, 23, 3])\n",
        "\n",
        "def resnet152(in_channels, n_classes):\n",
        "    return ResNet(in_channels, n_classes, block=ResNetBottleNeckBlock, deepths=[3, 8, 36, 3])"
      ]
    }
  ],
  "metadata": {
    "accelerator": "GPU",
    "colab": {
      "collapsed_sections": [],
      "name": "PCAM with ResNet.ipynb",
      "provenance": [],
      "include_colab_link": true
    },
    "kernelspec": {
      "display_name": "Python 3",
      "name": "python3"
    },
    "language_info": {
      "name": "python"
    },
    "widgets": {
      "application/vnd.jupyter.widget-state+json": {
        "527e118b5e7744ceab56b71d554fc01b": {
          "model_module": "@jupyter-widgets/controls",
          "model_name": "HBoxModel",
          "model_module_version": "1.5.0",
          "state": {
            "_dom_classes": [],
            "_model_module": "@jupyter-widgets/controls",
            "_model_module_version": "1.5.0",
            "_model_name": "HBoxModel",
            "_view_count": null,
            "_view_module": "@jupyter-widgets/controls",
            "_view_module_version": "1.5.0",
            "_view_name": "HBoxView",
            "box_style": "",
            "children": [
              "IPY_MODEL_fd9336c75f3442b8ba95e0798fc29613",
              "IPY_MODEL_9ddf4798882a45fa87d518948e697282",
              "IPY_MODEL_cd7e4d2dd90942bda792843414529f75"
            ],
            "layout": "IPY_MODEL_12459cda20ba42408ac1e1d19278e115"
          }
        },
        "fd9336c75f3442b8ba95e0798fc29613": {
          "model_module": "@jupyter-widgets/controls",
          "model_name": "HTMLModel",
          "model_module_version": "1.5.0",
          "state": {
            "_dom_classes": [],
            "_model_module": "@jupyter-widgets/controls",
            "_model_module_version": "1.5.0",
            "_model_name": "HTMLModel",
            "_view_count": null,
            "_view_module": "@jupyter-widgets/controls",
            "_view_module_version": "1.5.0",
            "_view_name": "HTMLView",
            "description": "",
            "description_tooltip": null,
            "layout": "IPY_MODEL_4353bc4953ca4783b880cb91abec84c6",
            "placeholder": "​",
            "style": "IPY_MODEL_2fad582c21dd45e1beb55897215708ec",
            "value": "100%"
          }
        },
        "9ddf4798882a45fa87d518948e697282": {
          "model_module": "@jupyter-widgets/controls",
          "model_name": "FloatProgressModel",
          "model_module_version": "1.5.0",
          "state": {
            "_dom_classes": [],
            "_model_module": "@jupyter-widgets/controls",
            "_model_module_version": "1.5.0",
            "_model_name": "FloatProgressModel",
            "_view_count": null,
            "_view_module": "@jupyter-widgets/controls",
            "_view_module_version": "1.5.0",
            "_view_name": "ProgressView",
            "bar_style": "success",
            "description": "",
            "description_tooltip": null,
            "layout": "IPY_MODEL_230637c4895f4aa6b75469d9460b071f",
            "max": 87319819,
            "min": 0,
            "orientation": "horizontal",
            "style": "IPY_MODEL_5cf840dbe0b3496f8d210a1c6d1ac25d",
            "value": 87319819
          }
        },
        "cd7e4d2dd90942bda792843414529f75": {
          "model_module": "@jupyter-widgets/controls",
          "model_name": "HTMLModel",
          "model_module_version": "1.5.0",
          "state": {
            "_dom_classes": [],
            "_model_module": "@jupyter-widgets/controls",
            "_model_module_version": "1.5.0",
            "_model_name": "HTMLModel",
            "_view_count": null,
            "_view_module": "@jupyter-widgets/controls",
            "_view_module_version": "1.5.0",
            "_view_name": "HTMLView",
            "description": "",
            "description_tooltip": null,
            "layout": "IPY_MODEL_93be2cd6d1b140479745a5c08d03432a",
            "placeholder": "​",
            "style": "IPY_MODEL_4c770884aded49a48dee378e12f6fc28",
            "value": " 83.3M/83.3M [00:00&lt;00:00, 215MB/s]"
          }
        },
        "12459cda20ba42408ac1e1d19278e115": {
          "model_module": "@jupyter-widgets/base",
          "model_name": "LayoutModel",
          "model_module_version": "1.2.0",
          "state": {
            "_model_module": "@jupyter-widgets/base",
            "_model_module_version": "1.2.0",
            "_model_name": "LayoutModel",
            "_view_count": null,
            "_view_module": "@jupyter-widgets/base",
            "_view_module_version": "1.2.0",
            "_view_name": "LayoutView",
            "align_content": null,
            "align_items": null,
            "align_self": null,
            "border": null,
            "bottom": null,
            "display": null,
            "flex": null,
            "flex_flow": null,
            "grid_area": null,
            "grid_auto_columns": null,
            "grid_auto_flow": null,
            "grid_auto_rows": null,
            "grid_column": null,
            "grid_gap": null,
            "grid_row": null,
            "grid_template_areas": null,
            "grid_template_columns": null,
            "grid_template_rows": null,
            "height": null,
            "justify_content": null,
            "justify_items": null,
            "left": null,
            "margin": null,
            "max_height": null,
            "max_width": null,
            "min_height": null,
            "min_width": null,
            "object_fit": null,
            "object_position": null,
            "order": null,
            "overflow": null,
            "overflow_x": null,
            "overflow_y": null,
            "padding": null,
            "right": null,
            "top": null,
            "visibility": null,
            "width": null
          }
        },
        "4353bc4953ca4783b880cb91abec84c6": {
          "model_module": "@jupyter-widgets/base",
          "model_name": "LayoutModel",
          "model_module_version": "1.2.0",
          "state": {
            "_model_module": "@jupyter-widgets/base",
            "_model_module_version": "1.2.0",
            "_model_name": "LayoutModel",
            "_view_count": null,
            "_view_module": "@jupyter-widgets/base",
            "_view_module_version": "1.2.0",
            "_view_name": "LayoutView",
            "align_content": null,
            "align_items": null,
            "align_self": null,
            "border": null,
            "bottom": null,
            "display": null,
            "flex": null,
            "flex_flow": null,
            "grid_area": null,
            "grid_auto_columns": null,
            "grid_auto_flow": null,
            "grid_auto_rows": null,
            "grid_column": null,
            "grid_gap": null,
            "grid_row": null,
            "grid_template_areas": null,
            "grid_template_columns": null,
            "grid_template_rows": null,
            "height": null,
            "justify_content": null,
            "justify_items": null,
            "left": null,
            "margin": null,
            "max_height": null,
            "max_width": null,
            "min_height": null,
            "min_width": null,
            "object_fit": null,
            "object_position": null,
            "order": null,
            "overflow": null,
            "overflow_x": null,
            "overflow_y": null,
            "padding": null,
            "right": null,
            "top": null,
            "visibility": null,
            "width": null
          }
        },
        "2fad582c21dd45e1beb55897215708ec": {
          "model_module": "@jupyter-widgets/controls",
          "model_name": "DescriptionStyleModel",
          "model_module_version": "1.5.0",
          "state": {
            "_model_module": "@jupyter-widgets/controls",
            "_model_module_version": "1.5.0",
            "_model_name": "DescriptionStyleModel",
            "_view_count": null,
            "_view_module": "@jupyter-widgets/base",
            "_view_module_version": "1.2.0",
            "_view_name": "StyleView",
            "description_width": ""
          }
        },
        "230637c4895f4aa6b75469d9460b071f": {
          "model_module": "@jupyter-widgets/base",
          "model_name": "LayoutModel",
          "model_module_version": "1.2.0",
          "state": {
            "_model_module": "@jupyter-widgets/base",
            "_model_module_version": "1.2.0",
            "_model_name": "LayoutModel",
            "_view_count": null,
            "_view_module": "@jupyter-widgets/base",
            "_view_module_version": "1.2.0",
            "_view_name": "LayoutView",
            "align_content": null,
            "align_items": null,
            "align_self": null,
            "border": null,
            "bottom": null,
            "display": null,
            "flex": null,
            "flex_flow": null,
            "grid_area": null,
            "grid_auto_columns": null,
            "grid_auto_flow": null,
            "grid_auto_rows": null,
            "grid_column": null,
            "grid_gap": null,
            "grid_row": null,
            "grid_template_areas": null,
            "grid_template_columns": null,
            "grid_template_rows": null,
            "height": null,
            "justify_content": null,
            "justify_items": null,
            "left": null,
            "margin": null,
            "max_height": null,
            "max_width": null,
            "min_height": null,
            "min_width": null,
            "object_fit": null,
            "object_position": null,
            "order": null,
            "overflow": null,
            "overflow_x": null,
            "overflow_y": null,
            "padding": null,
            "right": null,
            "top": null,
            "visibility": null,
            "width": null
          }
        },
        "5cf840dbe0b3496f8d210a1c6d1ac25d": {
          "model_module": "@jupyter-widgets/controls",
          "model_name": "ProgressStyleModel",
          "model_module_version": "1.5.0",
          "state": {
            "_model_module": "@jupyter-widgets/controls",
            "_model_module_version": "1.5.0",
            "_model_name": "ProgressStyleModel",
            "_view_count": null,
            "_view_module": "@jupyter-widgets/base",
            "_view_module_version": "1.2.0",
            "_view_name": "StyleView",
            "bar_color": null,
            "description_width": ""
          }
        },
        "93be2cd6d1b140479745a5c08d03432a": {
          "model_module": "@jupyter-widgets/base",
          "model_name": "LayoutModel",
          "model_module_version": "1.2.0",
          "state": {
            "_model_module": "@jupyter-widgets/base",
            "_model_module_version": "1.2.0",
            "_model_name": "LayoutModel",
            "_view_count": null,
            "_view_module": "@jupyter-widgets/base",
            "_view_module_version": "1.2.0",
            "_view_name": "LayoutView",
            "align_content": null,
            "align_items": null,
            "align_self": null,
            "border": null,
            "bottom": null,
            "display": null,
            "flex": null,
            "flex_flow": null,
            "grid_area": null,
            "grid_auto_columns": null,
            "grid_auto_flow": null,
            "grid_auto_rows": null,
            "grid_column": null,
            "grid_gap": null,
            "grid_row": null,
            "grid_template_areas": null,
            "grid_template_columns": null,
            "grid_template_rows": null,
            "height": null,
            "justify_content": null,
            "justify_items": null,
            "left": null,
            "margin": null,
            "max_height": null,
            "max_width": null,
            "min_height": null,
            "min_width": null,
            "object_fit": null,
            "object_position": null,
            "order": null,
            "overflow": null,
            "overflow_x": null,
            "overflow_y": null,
            "padding": null,
            "right": null,
            "top": null,
            "visibility": null,
            "width": null
          }
        },
        "4c770884aded49a48dee378e12f6fc28": {
          "model_module": "@jupyter-widgets/controls",
          "model_name": "DescriptionStyleModel",
          "model_module_version": "1.5.0",
          "state": {
            "_model_module": "@jupyter-widgets/controls",
            "_model_module_version": "1.5.0",
            "_model_name": "DescriptionStyleModel",
            "_view_count": null,
            "_view_module": "@jupyter-widgets/base",
            "_view_module_version": "1.2.0",
            "_view_name": "StyleView",
            "description_width": ""
          }
        }
      }
    }
  },
  "nbformat": 4,
  "nbformat_minor": 0
}